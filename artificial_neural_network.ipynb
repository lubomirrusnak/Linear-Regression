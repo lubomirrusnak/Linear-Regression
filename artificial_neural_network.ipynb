{
 "cells": [
  {
   "cell_type": "markdown",
   "id": "31b986bc-5705-4b2a-b89a-5942e9f87671",
   "metadata": {},
   "source": [
    "<h2>UMELÉ NEURÓNOVÉ SIETE</h2>"
   ]
  },
  {
   "cell_type": "markdown",
   "id": "dfab4f33-ad3f-4679-953e-85eef1922332",
   "metadata": {},
   "source": [
    "Zo stránky https://www.superdatascience.com/machine-learning/ stiahneme súbor <strong>Machine Learning A-Z (Codes and Datasets).zip</strong>."
   ]
  },
  {
   "cell_type": "markdown",
   "id": "87fa0322-7c48-4f3f-84a2-479d9782c6d6",
   "metadata": {},
   "source": [
    "Z tohto archívu nás zaujíma súbor <strong>Churn_Modelling.csv</strong>, nájdeme v ňom teda tento súbor (je v <em>Part 8: Deep Learning - Section 39 - Artificial Neural Networks (ANN)</em>). Dáme ho do priečinka, kde sa nachádza aj tento notebook (ipynb súbor). Budú teda v tom istom priečinku. Nakoľko csv súbory Excel nie vždy otvára správne, otvoríme ho priamo v JupyterLab alebo Google Colab alebo online pomocou stránky https://limonte.github.io/csv-viewer-online/ ."
   ]
  },
  {
   "cell_type": "markdown",
   "id": "3840db12-7ac0-4423-8362-49c7661c6c13",
   "metadata": {},
   "source": [
    "V tejto tabuľke sa nachádzajú údaje o klientoch banky. Závislou premennou je fakt, či daný klient banky z nej neskôr odišiel alebo nie. Ide teda o typický príklad problému klasifikácie do 2 tried. Pokročilou metódou klasifikácie je využitie umelých neurónových sietí."
   ]
  },
  {
   "cell_type": "markdown",
   "id": "c7f10359-071a-4abf-aaad-edb29ce79ac8",
   "metadata": {},
   "source": [
    "Nasleduje inštalácia knižníc, ktorú nerobíme, ak pracujeme s Google Colab."
   ]
  },
  {
   "cell_type": "markdown",
   "id": "71795070-a7f3-43db-ac36-0f7ec3c94ba4",
   "metadata": {},
   "source": [
    "Potrebujeme najprv nainštalovať knižnicu <strong>Theano</strong>, ktorá je určená pre numerické operácie, podobne ako Numpy, ktorú sme už používali. Výhodou je, že vie na tieto operácie využiť aj GPU."
   ]
  },
  {
   "cell_type": "markdown",
   "id": "bb7a58ab-2e01-401c-b0cc-3fd2b676963e",
   "metadata": {},
   "source": [
    "Otvoríme si teda balíčkový systém Anacondy, vyhľadáme Theano a nainštalujeme ho (keby nám ho nenašlo, zatlačíme <em>Update index</em>):<br /><img src=\"http://mvi.mechatronika.cool/sites/default/files/obrazky/obrazok_cv4_3.png\" />"
   ]
  },
  {
   "cell_type": "markdown",
   "id": "536372f9-81e0-4f4a-8d58-6d7319ed4af9",
   "metadata": {},
   "source": [
    "Potrebujeme nainštalovať knižnicu <strong>Tensorflow</strong>, o ktorej si môžeme viac prečítať na webe. Práca s ňou je pomerne zložitá a je vhodná na výskum. Prejdeme teda podobným spôsobom na balíčkový systém Anacondy a vyberieme TensorFlow <em>(verziu pre CPU, nakoľko GPU verzia môže požadovať inštaláciu CUDA a ďalších komponentov)</em>:<br /><img src=\"http://mvi.mechatronika.cool/sites/default/files/obrazky/obrazok_cv4_4.png\" />"
   ]
  },
  {
   "cell_type": "markdown",
   "id": "7281bd82-84aa-4381-a46e-7bdf890e7953",
   "metadata": {},
   "source": [
    "Nainštalujeme pomocou Anaconda balíčkového systému knižnicu <strong>Keras</strong>, ktorá slúži na zjednodušenú tvorbu neurónových sietí pomocou Tensorflow::<br /><img src=\"http://mvi.mechatronika.cool/sites/default/files/obrazky/obrazok_cv4_5.png\" />"
   ]
  },
  {
   "cell_type": "markdown",
   "id": "c664f58d-fa70-455d-800a-a17f97de561a",
   "metadata": {},
   "source": [
    "Spustíme kód, ktorý nám importuje potrebné knižnice a vypíše, akú máme nainštalovanú verziu Tensorflow. Toto už robíme aj v prípade, že pracujeme s Google Colab."
   ]
  },
  {
   "cell_type": "code",
   "execution_count": null,
   "id": "c471875c-131a-4917-9692-9dad5445f2a9",
   "metadata": {},
   "outputs": [],
   "source": [
    "# Importing the libraries\n",
    "import numpy as np\n",
    "import pandas as pd\n",
    "import tensorflow as tf\n",
    "tf.__version__"
   ]
  },
  {
   "cell_type": "markdown",
   "id": "e490d0bd-e93a-4f5a-a9fc-6f94b8383e68",
   "metadata": {},
   "source": [
    "Importujeme náš dataset. Vidíme, že je logické, že prvé 3 stĺpce, ako sú <em>RowNumber</em>, <em>CustomerId</em> a <em>Surname</em> nám nijakým spôsobom nemôžu vplývať na výstup. Preto berieme do úvahy v premennej <strong><em>X</em></strong> len stĺpce s indexom 3 až 12. Riadok s <strong><em>y</em></strong> musíme logicky upraviť nasledovne, keďže závislé údaje sú v stĺpci s indexom 13:"
   ]
  },
  {
   "cell_type": "code",
   "execution_count": null,
   "id": "68b8aba9-f02f-4cdd-8e31-278fbe26f2f2",
   "metadata": {},
   "outputs": [],
   "source": [
    "# Importing the dataset\n",
    "dataset = pd.read_csv('Churn_Modelling.csv')\n",
    "X = dataset.iloc[:, 3:13].values\n",
    "y = dataset.iloc[:, 13].values"
   ]
  },
  {
   "cell_type": "markdown",
   "id": "0e246f1e-f319-4262-a3d3-e740d0fb2bf3",
   "metadata": {},
   "source": [
    "Po tomto kóde pridáme kód na spracovanie kategorických dát. Vidíme, že potrebujeme spracovať pohlavie <em>Male / Female</em>. Toto nám stačí prepísať na 0 / 1. Využijeme teda <em>LabelEncoder</em>."
   ]
  },
  {
   "cell_type": "code",
   "execution_count": null,
   "id": "e0ab931d-aad9-41c4-be39-8819efec1fd9",
   "metadata": {},
   "outputs": [],
   "source": [
    "# Encoding categorical data\n",
    "from sklearn.preprocessing import LabelEncoder\n",
    "le = LabelEncoder()\n",
    "X[:,2] = le.fit_transform(X[:, 2])"
   ]
  },
  {
   "cell_type": "markdown",
   "id": "f8b12779-05fc-403a-a139-3268c1a294e8",
   "metadata": {},
   "source": [
    "Po tomto kóde pridáme ďalší kód na spracovanie kategorických dát. Vidíme, že potrebujeme nejakým spôsobom spracovať krajiny, ktoré máme 3. Keďže medzi nimi neexistuje žiaden vzťah, ktorý by sa týkal ich poradia a sú 3, tak použijeme <em>OneHotEncoder</em>:"
   ]
  },
  {
   "cell_type": "code",
   "execution_count": null,
   "id": "9fcfe95b-d714-476f-b3fc-8e65e208f84e",
   "metadata": {},
   "outputs": [],
   "source": [
    "# One Hot Encoding the \"Geography\" column\n",
    "from sklearn.compose import ColumnTransformer\n",
    "from sklearn.preprocessing import OneHotEncoder\n",
    "ct = ColumnTransformer(transformers=[('encoder', OneHotEncoder(), [1])], remainder='passthrough')\n",
    "X = np.array(ct.fit_transform(X))"
   ]
  },
  {
   "cell_type": "markdown",
   "id": "d629541f-5cdd-4acb-9b0f-9c386a68d923",
   "metadata": {},
   "source": [
    "Realizujeme škálovanie (<em>Feature Scaling</em>) našich nezávislých premenných, pričom zahrnieme všetky:"
   ]
  },
  {
   "cell_type": "code",
   "execution_count": null,
   "id": "703f5a70-5476-451d-9fa0-a2b8822b05bf",
   "metadata": {},
   "outputs": [],
   "source": [
    "# Feature Scaling\n",
    "from sklearn.preprocessing import StandardScaler\n",
    "sc = StandardScaler()\n",
    "X = sc.fit_transform(X)"
   ]
  },
  {
   "cell_type": "markdown",
   "id": "d8f71901-7025-4dac-83dd-0fad3a73216f",
   "metadata": {},
   "source": [
    "Riadok s rozdeľovaním dát na trénovacie a testovacie zadáme tak, aby testovacie dáta tvorili pätinu datasetu:"
   ]
  },
  {
   "cell_type": "code",
   "execution_count": null,
   "id": "00fc56bd-69c0-4a45-9ef1-ce5d58afeacf",
   "metadata": {},
   "outputs": [],
   "source": [
    "# Splitting the dataset into the Training set and Test set\n",
    "from sklearn.model_selection import train_test_split\n",
    "X_train, X_test, y_train, y_test = train_test_split(X, y, test_size = 0.2, random_state = 0)"
   ]
  },
  {
   "cell_type": "markdown",
   "id": "6bb9f826-05ce-42b1-9aad-a5d94a624fb9",
   "metadata": {},
   "source": [
    "Práca s neurónovou sieťou pozostáva z nasledovných krokov.\n",
    "<br /><img src=\"http://mvi.mechatronika.cool/sites/default/files/obrazky/obrazok_cv4_6.png\" />\n",
    "<br /><img src=\"http://mvi.mechatronika.cool/sites/default/files/obrazky/obrazok_cv4_7.png\" />\n",
    "<br /><img src=\"http://mvi.mechatronika.cool/sites/default/files/obrazky/obrazok_cv4_8.png\" />\n",
    "<br /><img src=\"http://mvi.mechatronika.cool/sites/default/files/obrazky/obrazok_cv4_9.png\" />\n",
    "<br /><img src=\"http://mvi.mechatronika.cool/sites/default/files/obrazky/obrazok_cv4_10.png\" />"
   ]
  },
  {
   "cell_type": "markdown",
   "id": "bb0073cb-9728-43a2-b589-e764b9af1d73",
   "metadata": {},
   "source": [
    "Inicializujeme neurónovú sieť:"
   ]
  },
  {
   "cell_type": "code",
   "execution_count": null,
   "id": "c77e1e51-eee1-4935-a2bc-c98863a8abca",
   "metadata": {},
   "outputs": [],
   "source": [
    "# Initialising the ANN\n",
    "ann = tf.keras.models.Sequential()"
   ]
  },
  {
   "cell_type": "markdown",
   "id": "8fcb193d-2e3f-4a72-a7d6-88bcd95598d5",
   "metadata": {},
   "source": [
    "Pridáme prvú vrstvu, teda vstupnú vrstvu, kde počet neurónov bude taký, aký máme počet našich príznakov, teda nezávislých premenných, čo vidíme v <em>input dimension</em> nastavených na 12. Toto je nepovinný parameter a automaticky by sa nám nastavil na 12. Typ vrstvy je <em>Dense</em>, čo je plne prepojená vrstva. Ako aktivačnú funkciu sme si vybrali <strong><em>relu</em></strong>, ktorá je na vstupnú vrstvu vhodná. Zároveň pridávame týmto aj prvú skrytú vrstvu, ktorej dávame 6 neurónov. Môže sa táto logika zdať zvláštna, že pomocou jedného príkazu pridávame 2 vrstvy, ale je to tak. Toto číslo môžeme neskôr skusmo meniť:"
   ]
  },
  {
   "cell_type": "code",
   "execution_count": null,
   "id": "9429adb1-7a2e-41b6-b8fe-5a395b9fb773",
   "metadata": {},
   "outputs": [],
   "source": [
    "# Adding the input layer and the first hidden layer\n",
    "ann.add(tf.keras.layers.Dense(units=6, activation='relu', input_dim=12))"
   ]
  },
  {
   "cell_type": "markdown",
   "id": "3a3c3355-db40-41b4-8bcb-2138ec67743c",
   "metadata": {},
   "source": [
    "Pridáme ďalšiu skrytú vrstvu:"
   ]
  },
  {
   "cell_type": "code",
   "execution_count": null,
   "id": "4d104532-67a5-4f6a-8060-f59f953d5ae3",
   "metadata": {},
   "outputs": [],
   "source": [
    "# Adding the second hidden layer\n",
    "ann.add(tf.keras.layers.Dense(units=6, activation='relu'))"
   ]
  },
  {
   "cell_type": "markdown",
   "id": "5fcc3c8e-b47d-4eb0-a889-d74c26f41519",
   "metadata": {},
   "source": [
    "Pridáme výstupnú vrstvu, kde počet výstupných neurónov bude 1, nakoľko výstupná vrstva nám bude určovať, či zákazník z banky odišiel alebo nie, čo je binárny výstup 0 alebo 1. Aktivačná funkcia je do výstupnej funkcie vhodná <em><strong>sigmoid</em></strong>. Ak by sme mali viac kategórií, tak je vhodné využiť <em><strong>softmax</em></strong>."
   ]
  },
  {
   "cell_type": "code",
   "execution_count": null,
   "id": "6a57fcfb-57c0-4380-a78c-4ab5803a7858",
   "metadata": {},
   "outputs": [],
   "source": [
    "# Adding the output layer\n",
    "ann.add(tf.keras.layers.Dense(units=1, activation='sigmoid'))"
   ]
  },
  {
   "cell_type": "markdown",
   "id": "b0f11e7c-e38a-47db-a202-fe04955a1ece",
   "metadata": {},
   "source": [
    "Neurónovú sieť skompilujeme. Loss nastavujeme na <em><strong>binary_crossentropy</em></strong>, nakoľko máme binárny výstup. Ak by sme mali viac kategórií, tak využijeme <em><strong>categorical_crossentropy</em></strong>."
   ]
  },
  {
   "cell_type": "code",
   "execution_count": null,
   "id": "9433ef4c-f9e7-4ac8-b556-03bfdcbbf0f1",
   "metadata": {},
   "outputs": [],
   "source": [
    "# Compiling the ANN\n",
    "ann.compile(optimizer = 'adam', loss = 'binary_crossentropy', metrics = ['accuracy'])"
   ]
  },
  {
   "cell_type": "markdown",
   "id": "7b869518-8bda-4c3b-a45e-bc1f83874ac2",
   "metadata": {},
   "source": [
    "Neurónovú sieť natrénujeme, počet epoch nastavíme na 100. Nezabudnime, že ak chceme skúšať sieť s inými parametrami, tak musíme zmazať všetky dáta v pamäti, ktoré sa týkajú neurónovej siete a spustiť jej inicializáciu znova, nakoľko to vyzerá, že JupyterLab si pamätá predošlé natrénovanie:"
   ]
  },
  {
   "cell_type": "code",
   "execution_count": null,
   "id": "f0df8b7f-5994-4e59-a410-dca007bebcc9",
   "metadata": {},
   "outputs": [],
   "source": [
    "# Fitting the ANN to the Training set\n",
    "ann1 = ann.fit(X_train, y_train, validation_data = (X_test, y_test),  batch_size = 32, epochs = 100)"
   ]
  },
  {
   "cell_type": "markdown",
   "id": "695b2e14-f957-4505-a31c-9e66cbc8a214",
   "metadata": {},
   "source": [
    "Program spustíme a sledujeme priebeh trénovania."
   ]
  },
  {
   "cell_type": "markdown",
   "id": "b9bb57d4-8f22-4f91-9672-b44f56361af7",
   "metadata": {},
   "source": [
    "Zobrazíme si priebeh trénovania neurónovej siete pomocou zobrazenia presnosti. <em>Accuracy</em> je presnosť pre trénovaciu množinu a <em>val_accuracy</em> je presnosť pre testovaciu (validačnú) množinu. Ak je presnosť pre trénovaciu množinu veľmi vysoká, avšak nízka pre testovaciu, znamená to, že sieť je pretrénovaná (<strong>overfitting</strong>)."
   ]
  },
  {
   "cell_type": "code",
   "execution_count": null,
   "id": "5c485c88-ed7c-4ea6-a8f1-2e0cccc9b32b",
   "metadata": {},
   "outputs": [],
   "source": [
    "import matplotlib.pyplot as plt\n",
    "plt.plot(ann1.history['accuracy'])\n",
    "plt.plot(ann1.history['val_accuracy'])\n",
    "plt.title('Model accuracy')\n",
    "plt.ylabel('Accuracy')\n",
    "plt.xlabel('Epoch')\n",
    "plt.legend(['Train', 'Test'], loc='upper left')\n",
    "plt.show()"
   ]
  },
  {
   "cell_type": "markdown",
   "id": "b41fa1d3-e166-4462-ae0f-83b16e31deb9",
   "metadata": {},
   "source": [
    "Zobrazíme si priebeh trénovania neurónovej siete pomocou zobrazenia loss:"
   ]
  },
  {
   "cell_type": "code",
   "execution_count": null,
   "id": "585c9788-a698-48eb-b5e7-64d7c67e288d",
   "metadata": {},
   "outputs": [],
   "source": [
    "plt.plot(ann1.history['loss'])\n",
    "plt.plot(ann1.history['val_loss']) \n",
    "plt.title('Model loss') \n",
    "plt.ylabel('Loss') \n",
    "plt.xlabel('Epoch') \n",
    "plt.legend(['Train', 'Test'], loc='upper left') \n",
    "plt.show()\n"
   ]
  },
  {
   "cell_type": "markdown",
   "id": "ea9a6ee3-4903-48c9-b563-fbee83dd23ee",
   "metadata": {},
   "source": [
    "Skúsme predikovať výsledok, teda či odíde z banky človek, ktorý má nasledovné parametre:<br /><img src=\"http://mvi.mechatronika.cool/sites/default/files/obrazky/obrazok_cv4_11.png\" />"
   ]
  },
  {
   "cell_type": "markdown",
   "id": "70edc92a-a41f-4f6e-978b-757470e15399",
   "metadata": {},
   "source": [
    "Toto realizujeme pomocou kódu:"
   ]
  },
  {
   "cell_type": "code",
   "execution_count": null,
   "id": "d89877e4-c472-4967-b4e6-1e95d54bd07f",
   "metadata": {},
   "outputs": [],
   "source": [
    "print(ann.predict(sc.transform([[1, 0, 0, 600, 1, 40, 3, 60000, 2, 1, 1, 50000]])))"
   ]
  },
  {
   "cell_type": "markdown",
   "id": "50b6df24-656b-41e6-add7-d2ade61e0d19",
   "metadata": {},
   "source": [
    "Ideme predikovať výsledky na základe testovacích dát. Predposledný riadok nám urobí to, že výsledky väčšie ako 0.5 označí ako <strong>True</strong> a ostatné ako <strong>False</strong>."
   ]
  },
  {
   "cell_type": "code",
   "execution_count": null,
   "id": "ac56c9f6-106b-4546-ab20-3ee33cd8057d",
   "metadata": {},
   "outputs": [],
   "source": [
    "# Part 3 - Making the predictions and evaluating the model\n",
    "\n",
    "# Predicting the Test set results\n",
    "y_pred = ann.predict(X_test)\n",
    "y_pred = (y_pred > 0.5)\n",
    "print(np.concatenate((y_pred.reshape(len(y_pred),1), y_test.reshape(len(y_test),1)),1))"
   ]
  },
  {
   "cell_type": "markdown",
   "id": "497ebac6-9e02-4de5-98d5-8d821aeb4e72",
   "metadata": {},
   "source": [
    "Znovu vyrobíme confusion matrix. Kód potom spustíme a pozrieme obsah confusion matrix, ktorej obsahu sme sa naučili rozumieť pri logistickej regresii."
   ]
  },
  {
   "cell_type": "code",
   "execution_count": null,
   "id": "950bbced-4a26-4aac-bad3-ab70994707d6",
   "metadata": {},
   "outputs": [],
   "source": [
    "# Making the Confusion Matrix\n",
    "from sklearn.metrics import confusion_matrix, accuracy_score\n",
    "cm = confusion_matrix(y_test, y_pred)\n",
    "print (cm)\n",
    "accuracy_score(y_test, y_pred)"
   ]
  },
  {
   "cell_type": "markdown",
   "id": "192085a1-b4cb-4bd9-a1ee-243f3bab4301",
   "metadata": {},
   "source": [
    "Program je hotový. Prečítame si a <strong>splníme úlohu</strong> na konci nášho dokumentu k cvičeniu."
   ]
  },
  {
   "cell_type": "code",
   "execution_count": null,
   "id": "974aef2d-218e-44f6-926f-dc8b8d12aee6",
   "metadata": {},
   "outputs": [],
   "source": []
  }
 ],
 "metadata": {
  "kernelspec": {
   "display_name": "Python 3 (ipykernel)",
   "language": "python",
   "name": "python3"
  },
  "language_info": {
   "codemirror_mode": {
    "name": "ipython",
    "version": 3
   },
   "file_extension": ".py",
   "mimetype": "text/x-python",
   "name": "python",
   "nbconvert_exporter": "python",
   "pygments_lexer": "ipython3",
   "version": "3.11.4"
  }
 },
 "nbformat": 4,
 "nbformat_minor": 5
}
