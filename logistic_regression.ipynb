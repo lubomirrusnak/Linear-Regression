{
 "cells": [
  {
   "cell_type": "markdown",
   "id": "31b986bc-5705-4b2a-b89a-5942e9f87671",
   "metadata": {},
   "source": [
    "<h2>LOGISTICKÁ REGRESIA</h2>"
   ]
  },
  {
   "cell_type": "markdown",
   "id": "dfab4f33-ad3f-4679-953e-85eef1922332",
   "metadata": {},
   "source": [
    "Zo stránky https://mvi.mechatronika.cool/sites/default/files/programy/Social_Network_Ads_SVVI.zip stiahneme súbor <strong>Social_Network_Ads_SVVI.zip</strong> a nájdeme v archíve súbor <strong>Social_Network_Ads.csv</strong>."
   ]
  },
  {
   "cell_type": "markdown",
   "id": "87fa0322-7c48-4f3f-84a2-479d9782c6d6",
   "metadata": {},
   "source": [
    "Z tohto archívu nás teda zaujíma súbor <strong>Social_Network_Ads.csv</strong>. Dáme ho do priečinka, kde sa nachádza aj tento notebook (ipynb súbor). Budú teda v tom istom priečinku. Nakoľko csv súbory Excel nie vždy otvára správne, otvoríme ho priamo v JupyterLab alebo Google Colab alebo online pomocou stránky https://limonte.github.io/csv-viewer-online/ ."
   ]
  },
  {
   "cell_type": "markdown",
   "id": "3840db12-7ac0-4423-8362-49c7661c6c13",
   "metadata": {},
   "source": [
    "V tejto tabuľke sa nachádzajú údaje o používateľoch sociálnej siete, ktorým bola zobrazená reklama produktu. Závislou premennou je fakt, či daný užívateľ produkt kúpil alebo nie. Ide teda o typický príklad problému klasifikácie do 2 tried. Jednoduchou metódou klasifikácie je logistická regresia."
   ]
  },
  {
   "cell_type": "markdown",
   "id": "cee1b40b-ed08-4b3c-953e-cad63105dbe0",
   "metadata": {},
   "source": [
    "Využijeme výňatok z kódu nášho <strong>data preprocessing templatu</strong>, pričom sme zmazali časti, ktoré vzhľadom k povahe datasetu (<em>Taking care of missing data</em>, <em>Encoding categorical data</em>, <em>Feature Scaling</em>). <em>Feature Scaling</em> síce potrebujeme, ale doplníme ho neskôr, nakoľko tam bude drobná zmena.<br>Riadok s načítaním <strong><em>X</em></strong> sme upravili, nakoľko za nezávislé premenné, ktoré chceme použiť, považujeme len vek a plat užívateľa (pohlavie a User ID nás nezaujíma - viď. naše CSV). Riadok s <strong><em>y</em></strong> sme upravili nasledovne, keďže závislé údaje sú v stĺpci s indexom 4."
   ]
  },
  {
   "cell_type": "code",
   "execution_count": 2,
   "id": "32b5bfcf-cda7-4563-bd6c-ddf8599a1a39",
   "metadata": {
    "tags": []
   },
   "outputs": [],
   "source": [
    "# Data Preprocessing\n",
    "\n",
    "# Importing the libraries\n",
    "import numpy as np\n",
    "import matplotlib.pyplot as plt\n",
    "import pandas as pd\n",
    "\n",
    "# Importing the dataset\n",
    "dataset = pd.read_csv('Social_Network_Ads.csv')\n",
    "\n",
    "X = dataset.iloc[:, [2,3]].values\n",
    "y = dataset.iloc[:, 4].values"
   ]
  },
  {
   "cell_type": "markdown",
   "id": "eca73da0-041a-4d4f-b735-2ff8b729cb7a",
   "metadata": {},
   "source": [
    "Riadok s rozdeľovaním dát na trénovacie a testovacie upravíme tak, aby testovacie dáta tvorili štvrtinu datasetu:"
   ]
  },
  {
   "cell_type": "code",
   "execution_count": null,
   "id": "157de4bc-7d58-45f5-bec7-28b0b7a28ef2",
   "metadata": {},
   "outputs": [],
   "source": [
    "# Splitting the dataset into the Training set and Test set\n",
    "from sklearn.model_selection import train_test_split\n",
    "X_train, X_test, y_train, y_test = train_test_split(X, y, test_size = 0.25, random_state = 0)"
   ]
  },
  {
   "cell_type": "markdown",
   "id": "4ab54940-d369-4f91-9d1a-8c2ad70ba41c",
   "metadata": {},
   "source": [
    "Sekciu s Feature Scaling upravíme podľa nášho datasetu, pričom scalovať ho môžeme celý:"
   ]
  },
  {
   "cell_type": "code",
   "execution_count": null,
   "id": "ba655595-8d48-4ac1-8343-99cb19ff20ad",
   "metadata": {},
   "outputs": [],
   "source": [
    "# Feature Scaling\n",
    "from sklearn.preprocessing import StandardScaler\n",
    "sc = StandardScaler()\n",
    "X_train = sc.fit_transform(X_train)\n",
    "X_test = sc.transform(X_test);"
   ]
  },
  {
   "cell_type": "markdown",
   "id": "cdeb76ed-fe34-4194-b105-f7814276df8c",
   "metadata": {},
   "source": [
    "Potrebujeme teraz vytvoriť logistický klasifikátor – objekt triedy <strong>LogisticRegression</strong>. Spustíme teda kód:"
   ]
  },
  {
   "cell_type": "code",
   "execution_count": null,
   "id": "7a22823b-619c-4e68-9f46-8e33a18a96f2",
   "metadata": {},
   "outputs": [],
   "source": [
    "# Fitting Logistic Regression to the Training set\n",
    "from sklearn.linear_model import LogisticRegression\n",
    "classifier = LogisticRegression(random_state = 0)"
   ]
  },
  {
   "cell_type": "markdown",
   "id": "c1dc4188-a678-4883-b181-a2b9073c06bd",
   "metadata": {},
   "source": [
    "Random_state nastavený na istú hodnotu nám zabezpečí, že výsledok bude vždy rovnaký, ak klasifikátor spustíme na 2 počítačoch, čo je vhodné na edukačné účely."
   ]
  },
  {
   "cell_type": "markdown",
   "id": "7f97ca97-5f9d-437b-ac57-c11b3e7bd0be",
   "metadata": {},
   "source": [
    "Teraz klasifikátor potrebujeme vypočítať podľa našich trénovacích dát. Spustíme kód:"
   ]
  },
  {
   "cell_type": "code",
   "execution_count": null,
   "id": "bbe2a7b3-5035-4a91-a4a7-72b934873892",
   "metadata": {},
   "outputs": [],
   "source": [
    "classifier.fit(X_train, y_train)"
   ]
  },
  {
   "cell_type": "markdown",
   "id": "143d533e-0c69-481c-84fa-9fc8b8ba353f",
   "metadata": {},
   "source": [
    "Otestujeme klasifikátor pre 30-ročného človeka, ktorý zarába 87000."
   ]
  },
  {
   "cell_type": "code",
   "execution_count": null,
   "id": "670e8ab3-570f-4055-8d84-6bca20df5335",
   "metadata": {},
   "outputs": [],
   "source": [
    "print(classifier.predict(sc.transform([[30,87000]])))"
   ]
  },
  {
   "cell_type": "markdown",
   "id": "443b2911-6108-4247-a112-86156fd1622d",
   "metadata": {},
   "source": [
    "Teraz otestujeme náš klasifikátor na testovacích dátach. Zároveň si predikované dáta porovnáme s tým, či sedia s testovacími. Toto vidíme v 2 stĺpcoch, kde v prvom sú predikované a v druhom testovacie, teda, ako to malo v skutočnosti byť. Mali by sme vidieť vo väčšine prípadov zhodu. Spustíme kód:"
   ]
  },
  {
   "cell_type": "code",
   "execution_count": null,
   "id": "2fc0e829-9e32-4f6d-9c85-9de57a200e9a",
   "metadata": {},
   "outputs": [],
   "source": [
    "# Predicting the Test results\n",
    "y_pred = classifier.predict(X_test)\n",
    "print(np.concatenate((y_pred.reshape(len(y_pred),1), y_test.reshape(len(y_test),1)),1))"
   ]
  },
  {
   "cell_type": "markdown",
   "id": "54e6c594-30d4-4471-907b-c0173515dcca",
   "metadata": {},
   "source": [
    "Urobíme si tzv. <strong><em>Confusion Matrix</em></strong>, z ktorej vyčítame presnosť predikcie. Vytvoríme najprv objekt <em>confusion_matrix</em>:"
   ]
  },
  {
   "cell_type": "code",
   "execution_count": null,
   "id": "c856edef-e579-40b5-a0ca-85147fd7aaaf",
   "metadata": {},
   "outputs": [],
   "source": [
    "# Making the Confusion Matrix\n",
    "from sklearn.metrics import confusion_matrix, accuracy_score\n",
    "cm = confusion_matrix(y_test, y_pred);\n",
    "print (cm)\n",
    "accuracy_score(y_test, y_pred)"
   ]
  },
  {
   "cell_type": "markdown",
   "id": "d992e231-4418-4726-b217-daaf29a7af93",
   "metadata": {},
   "source": [
    "Výstup objektu <strong><em>cm</em></strong> do konzoly vyzerá približne takto:<br /><img src=\"http://mvi.mechatronika.cool/sites/default/files/obrazky/obrazok_cv4_1.png\" />"
   ]
  },
  {
   "cell_type": "markdown",
   "id": "dca282fe-6e31-4d2e-ac3c-069061f286a1",
   "metadata": {},
   "source": [
    "Zmysel confusion matrix môžeme vidieť na obrázku. V prípade nejasností si pozrite video alebo sa spýtajte cvičiaceho.<br /><img src=\"http://mvi.mechatronika.cool/sites/default/files/obrazky/obrazok_cv4_2.png\" />"
   ]
  },
  {
   "cell_type": "markdown",
   "id": "240a8e54-6fe9-4f6a-9dd9-2749a23dc38b",
   "metadata": {},
   "source": [
    "Výsledky vizualizujeme pre trénovacie dáta:"
   ]
  },
  {
   "cell_type": "code",
   "execution_count": null,
   "id": "51b3997c-c21f-432c-bd86-cbb5262ebcef",
   "metadata": {},
   "outputs": [],
   "source": [
    "# Visualising the Training set results\n",
    "from matplotlib.colors import ListedColormap\n",
    "X_set, y_set = X_train, y_train\n",
    "X1, X2 = np.meshgrid(np.arange(start = X_set[:, 0].min() - 1, stop = X_set[:, 0].max() + 1, step = 0.01),\n",
    "                     np.arange(start = X_set[:, 1].min() - 1, stop = X_set[:, 1].max() + 1, step = 0.01))\n",
    "plt.contourf(X1, X2, classifier.predict(np.array([X1.ravel(), X2.ravel()]).T).reshape(X1.shape),\n",
    "            alpha = 0.75, cmap = ListedColormap(('red', 'green')))\n",
    "plt.xlim(X1.min(), X1.max())\n",
    "plt.xlim(X2.min(), X2.max())\n",
    "for i, j in enumerate(np.unique(y_set)):\n",
    "    plt.scatter(X_set[y_set == j, 0], X_set[y_set == j, 1],\n",
    "                c = ListedColormap(('red', 'green'))(i), label = j)\n",
    "plt.title('Logistic Regression (Training set)')\n",
    "plt.xlabel('Age')\n",
    "plt.ylabel('Estimated Salary')\n",
    "plt.legend()\n",
    "plt.show()"
   ]
  },
  {
   "cell_type": "markdown",
   "id": "111c91d2-bfa0-40f7-b7da-ae6acdb354ce",
   "metadata": {},
   "source": [
    "Výsledky vizualizujeme pre testovacie dáta:"
   ]
  },
  {
   "cell_type": "code",
   "execution_count": null,
   "id": "ae0a5af2-30db-4a3c-a6e3-dd20a6296cd8",
   "metadata": {},
   "outputs": [],
   "source": [
    "# Visualising the Test set results\n",
    "from matplotlib.colors import ListedColormap\n",
    "X_set, y_set = X_test, y_test\n",
    "X1, X2 = np.meshgrid(np.arange(start = X_set[:, 0].min() - 1, stop = X_set[:, 0].max() + 1, step = 0.01),\n",
    "                     np.arange(start = X_set[:, 1].min() - 1, stop = X_set[:, 1].max() + 1, step = 0.01))\n",
    "plt.contourf(X1, X2, classifier.predict(np.array([X1.ravel(), X2.ravel()]).T).reshape(X1.shape),\n",
    "            alpha = 0.75, cmap = ListedColormap(('red', 'green')))\n",
    "plt.xlim(X1.min(), X1.max())\n",
    "plt.xlim(X2.min(), X2.max())\n",
    "for i, j in enumerate(np.unique(y_set)):\n",
    "    plt.scatter(X_set[y_set == j, 0], X_set[y_set == j, 1],\n",
    "                c = ListedColormap(('red', 'green'))(i), label = j)\n",
    "plt.title('Logistic Regression (Test set)')\n",
    "plt.xlabel('Age')\n",
    "plt.ylabel('Estimated Salary')\n",
    "plt.legend()\n",
    "plt.show()"
   ]
  },
  {
   "cell_type": "markdown",
   "id": "c664f58d-fa70-455d-800a-a17f97de561a",
   "metadata": {},
   "source": [
    "Pokračujeme v cvičení s časťou UMELÉ NEURÓNOVÉ SIETE."
   ]
  },
  {
   "cell_type": "code",
   "execution_count": null,
   "id": "c471875c-131a-4917-9692-9dad5445f2a9",
   "metadata": {},
   "outputs": [],
   "source": []
  }
 ],
 "metadata": {
  "kernelspec": {
   "display_name": "Python 3 (ipykernel)",
   "language": "python",
   "name": "python3"
  },
  "language_info": {
   "codemirror_mode": {
    "name": "ipython",
    "version": 3
   },
   "file_extension": ".py",
   "mimetype": "text/x-python",
   "name": "python",
   "nbconvert_exporter": "python",
   "pygments_lexer": "ipython3",
   "version": "3.11.4"
  }
 },
 "nbformat": 4,
 "nbformat_minor": 5
}
