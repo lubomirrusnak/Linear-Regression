{
 "cells": [
  {
   "cell_type": "markdown",
   "id": "31b986bc-5705-4b2a-b89a-5942e9f87671",
   "metadata": {},
   "source": [
    "<h2>DATA PREPROCESSING - PREDSPRACOVANIE DÁT</h2>"
   ]
  },
  {
   "cell_type": "markdown",
   "id": "dfab4f33-ad3f-4679-953e-85eef1922332",
   "metadata": {},
   "source": [
    "Zo stránky https://www.superdatascience.com/machine-learning/ stiahneme súbor <strong>Machine Learning A-Z (Codes and Datasets).zip</strong> a nájdeme v ňom súbor Data.csv v sekcii <em>Part 1: Data Preprocessing - Python</em>."
   ]
  },
  {
   "cell_type": "markdown",
   "id": "87fa0322-7c48-4f3f-84a2-479d9782c6d6",
   "metadata": {},
   "source": [
    "Z tohto archívu nás zatiaľ zaujíma súbor <strong>Data.csv</strong>, nájdeme v ňom teda tento súbor. Dáme ho do priečinka, kde sa nachádza aj tento notebook (ipynb súbor). Budú teda v tom istom priečinku."
   ]
  },
  {
   "cell_type": "markdown",
   "id": "3840db12-7ac0-4423-8362-49c7661c6c13",
   "metadata": {},
   "source": [
    "Ak by sme otvorili tento súbor, vidíme náš dataset:<br /><img src=\"http://mvi.mechatronika.cool/sites/default/files/obrazky/obrazok_cv3_1.png\" />"
   ]
  },
  {
   "cell_type": "markdown",
   "id": "32527ec6-69f7-4923-bee7-acca5329270c",
   "metadata": {},
   "source": [
    "<strong>Závislou premennou</strong> je v tomto prípade <em>Purchased</em>, teda informácia, či ľudia so spomenutými údajmi si zakúpili sledovaný výrobok. Údaje človeka sú <strong>nezávislou premennou</strong>."
   ]
  },
  {
   "cell_type": "markdown",
   "id": "cee1b40b-ed08-4b3c-953e-cad63105dbe0",
   "metadata": {},
   "source": [
    "Prvou úlohou bude príprava templatu pre data preprocessing, ktorý budeme používať pri všetkých metódach strojového učenia. (Niekedy budú treba vhodné úpravy – podľa typu použitého algoritmu pre strojové učenie.) Data preprocessing pozostáva napríklad z doplnenia chýbajúcich hodnôt, nakoľko sami vidíme, že v tabuľke niektoré chýbajú. V praxi sa takéto prípady vyskytujú často."
   ]
  },
  {
   "cell_type": "code",
   "execution_count": null,
   "id": "32b5bfcf-cda7-4563-bd6c-ddf8599a1a39",
   "metadata": {},
   "outputs": [],
   "source": [
    "# Data Preprocessing\n",
    "\n",
    "# Importing the libraries\n",
    "import numpy as np\n",
    "import matplotlib.pyplot as plt\n",
    "import pandas as pd"
   ]
  },
  {
   "cell_type": "markdown",
   "id": "dac561b7-27c6-4555-af96-909967fa39f3",
   "metadata": {},
   "source": [
    "Spustíme vyššie uvedený fragment kódu, pričom podobne vždy treba postupovať aj pri ďalších bodoch (teda spustiť kód, keď čítame daný bod). Mriežka označuje komentár. Numpy je knižnica pre numerické operácie, Matplotlib najmä pre kreslenie grafov a Pandas pre načítavanie súborov."
   ]
  },
  {
   "cell_type": "markdown",
   "id": "789be14e-e73f-4bc9-9257-11ed4cf897e9",
   "metadata": {},
   "source": [
    "Načítame dataset a môžeme si ho aj zobraziť pomocou <em>print</em>:"
   ]
  },
  {
   "cell_type": "code",
   "execution_count": null,
   "id": "8a2f14c9-3e10-460f-a5e7-04a8cdc2a771",
   "metadata": {},
   "outputs": [],
   "source": [
    "# Importing the dataset\n",
    "dataset = pd.read_csv('Data.csv')"
   ]
  },
  {
   "cell_type": "code",
   "execution_count": null,
   "id": "3a1d5721-9a65-4830-bcb5-7cd0248f8440",
   "metadata": {},
   "outputs": [],
   "source": [
    "print (dataset)"
   ]
  },
  {
   "cell_type": "markdown",
   "id": "1f6eeec3-9b3c-4ebd-8dcf-61b1769df539",
   "metadata": {},
   "source": [
    "Ďalej spustíme kód:"
   ]
  },
  {
   "cell_type": "code",
   "execution_count": null,
   "id": "c1eccba8-a404-4bb8-ada1-82cc2ee700a2",
   "metadata": {},
   "outputs": [],
   "source": [
    "X = dataset.iloc[:, :-1].values\n",
    "y = dataset.iloc[:, -1].values"
   ]
  },
  {
   "cell_type": "code",
   "execution_count": null,
   "id": "cd95b4c3-a15d-432b-8619-3655426aeb47",
   "metadata": {},
   "outputs": [],
   "source": [
    "print (X)\n",
    "print (y)"
   ]
  },
  {
   "cell_type": "markdown",
   "id": "5655ef9b-d7a9-495f-b785-6b60c214edc9",
   "metadata": {},
   "source": [
    "Do premennej X sme si uložili všetky údaje okrem posledného stĺpca, keďže ide o závislú premennú. Túto závislú premennú sme uložili do premennej y. Notácia s dvojbodkami funguje podobne ako v Matlabe, aj keď v Pythone sú oproti Matlabu isté rozdiely v indexácii polí – viď. prednáška."
   ]
  },
  {
   "cell_type": "markdown",
   "id": "a0aa00ad-118f-4056-bd88-1d25c5885b79",
   "metadata": {},
   "source": [
    "Pridáme kód na doplnenie chýbajúcich hodnôt, keďže vidíme, že v dvoch stĺpcoch (<em>Age</em> a <em>Salary</em>) chýbajú hodnoty:"
   ]
  },
  {
   "cell_type": "code",
   "execution_count": null,
   "id": "0f1c9834-5a01-4678-968e-ff8da17105ff",
   "metadata": {},
   "outputs": [],
   "source": [
    "# Taking care of missing data\n",
    "from sklearn.impute import SimpleImputer\n",
    "imputer = SimpleImputer (missing_values = np.nan, strategy = 'mean')\n",
    "imputer.fit(X[:, 1:3])\n",
    "X[:, 1:3] = imputer.transform(X[:,1:3])"
   ]
  },
  {
   "cell_type": "markdown",
   "id": "b8c1fb91-8dc6-4f30-be57-521cd89f4bfe",
   "metadata": {},
   "source": [
    "Objekt imputer nám bude slúžiť ako operátor na dopĺňanie chýbajúcich hodnôt podľa zvolenej stratégie, ktorú sme si nastavili. V tomto prípade ide o mean, čiže sa zoberie priemer hodnôt. Konkrétne priemer zo stĺpca. Nastavenie imputeru si môžeme prečítať tu: https://scikit-learn.org/stable/modules/generated/sklearn.impute.SimpleImputer.html "
   ]
  },
  {
   "cell_type": "markdown",
   "id": "966a46ab-56de-43db-80e1-2586230ba122",
   "metadata": {},
   "source": [
    "Ďalej kód uvedený vyššie nahradí chýbajúce hodnoty priemerom v stĺpcoch 1 a 2. Notácia „1 až 3“ znamená v Pythone „1 až 2 – vrátane“. Toto si môžeme zobraziť napríklad pomocou printu."
   ]
  },
  {
   "cell_type": "code",
   "execution_count": null,
   "id": "b0288998-1b6c-49b4-bcdb-2112c6f813d1",
   "metadata": {},
   "outputs": [],
   "source": [
    "print (X)"
   ]
  },
  {
   "cell_type": "markdown",
   "id": "6d43b73c-0529-41bc-8fc4-9ea651115ea3",
   "metadata": {},
   "source": [
    "Vidíme, že niektoré vstupné údaje (krajina) nie sú numerické (nazvime ich kvantitatívne), ale <strong>kategorického</strong> charakteru. Potrebujeme ich teda takýmto spôsobom spracovať. Mohli by sme to urobiť tak, že budeme jednotlivé krajiny reprezentovať číslom (teda Francúzsko bude napríklad 1, Španielsko 2, atď.). Na toto sa používa <em>LabelEncoder</em>. Môže však nastať problém, že niektoré metódy strojového učenia toto pochopia tak, že budú tieto hodnoty vnímať ako numerické (Španielsko je viac ako Francúzsko, keďže má vyššie číslo)."
   ]
  },
  {
   "cell_type": "markdown",
   "id": "645fe905-2f08-4c71-9d16-0d50b0a960bf",
   "metadata": {},
   "source": [
    "Aby sme tomuto zamedzili, využijeme teda metódu <strong>One-Hot Encoding</strong>, pričom výstup bude vyzerať takto:<br /><img src=\"http://mvi.mechatronika.cool/sites/default/files/obrazky/obrazok_cv3_2.png\" />"
   ]
  },
  {
   "cell_type": "markdown",
   "id": "c024f5b7-1d0f-46a4-95d4-194f6410534e",
   "metadata": {},
   "source": [
    "Spustíme kód:"
   ]
  },
  {
   "cell_type": "code",
   "execution_count": null,
   "id": "80c363f6-ce75-408d-990e-3b1d24d5bc28",
   "metadata": {},
   "outputs": [],
   "source": [
    "# Encoding categorical data\n",
    "from sklearn.compose import ColumnTransformer\n",
    "from sklearn.preprocessing import OneHotEncoder\n",
    "ct = ColumnTransformer(transformers=[('encoder', OneHotEncoder(), [0])], remainder='passthrough')\n",
    "X = np.array(ct.fit_transform(X)) "
   ]
  },
  {
   "cell_type": "markdown",
   "id": "e0ea524b-0dfe-40a9-97fa-1224aed81a17",
   "metadata": {},
   "source": [
    "Vidíme, že pri tvorbe objektu <strong>ColumnTransformer</strong> sme špecifikovali stĺpec 0, čo znamená, že chceme transformovať prvý stĺpec, čo je u nás stĺpec s krajinami. Ostatné stĺpce chceme nechať tak (<strong>remainder='passthrough'</strong>). Zobrazíme dataset pomocou príkazu print:"
   ]
  },
  {
   "cell_type": "code",
   "execution_count": null,
   "id": "318256c7-535d-48d5-b9ee-fcb32ba2096c",
   "metadata": {},
   "outputs": [],
   "source": [
    "print (X)"
   ]
  },
  {
   "cell_type": "markdown",
   "id": "42c98bb0-bb8f-4c70-b445-8f7629da7935",
   "metadata": {},
   "source": [
    "Kategorické sú aj dáta v premennej <strong>y</strong> (<em>kúpil / nekúpil výrobok</em>), takže pridáme nasledovný kód, pričom tu nám stačí <strong>LabelEncoder</strong>:"
   ]
  },
  {
   "cell_type": "code",
   "execution_count": null,
   "id": "6c9b3f3a-45a7-4f5e-9bc2-6d26613d227a",
   "metadata": {},
   "outputs": [],
   "source": [
    "from sklearn.preprocessing import LabelEncoder\n",
    "le = LabelEncoder ()\n",
    "y = le.fit_transform(y)"
   ]
  },
  {
   "cell_type": "markdown",
   "id": "f78ea5d5-24ab-4629-9b3a-053610344eba",
   "metadata": {},
   "source": [
    "Ďalej potrebujeme dáta rozdeliť na <em>trénovacie</em> a <em>testovacie</em>. Ako testovacie dáta použijeme 20% množiny. Spustíme kód:"
   ]
  },
  {
   "cell_type": "code",
   "execution_count": null,
   "id": "4d25ba27-92c7-4300-a73a-d257f52bdb1a",
   "metadata": {},
   "outputs": [],
   "source": [
    "# Splitting the dataset into the Training set and Test set\n",
    "from sklearn.model_selection import train_test_split\n",
    "X_train, X_test, y_train, y_test = train_test_split(X, y, test_size = 0.2, random_state = 1)"
   ]
  },
  {
   "cell_type": "markdown",
   "id": "3740cb4e-b9d4-41f3-8a9b-21a597bd0ca8",
   "metadata": {},
   "source": [
    "Zobrazíme si všetky vytvorené množiny dát:"
   ]
  },
  {
   "cell_type": "code",
   "execution_count": null,
   "id": "c364ffcb-b87c-4270-8c7d-8776e68dcfa3",
   "metadata": {},
   "outputs": [],
   "source": [
    "print (X_train)"
   ]
  },
  {
   "cell_type": "code",
   "execution_count": null,
   "id": "1205c04d-1907-438d-b0f2-0efad8a59a23",
   "metadata": {},
   "outputs": [],
   "source": [
    "print (X_test)"
   ]
  },
  {
   "cell_type": "code",
   "execution_count": null,
   "id": "6192fc4a-5c5a-4f03-a993-25aba91235d0",
   "metadata": {},
   "outputs": [],
   "source": [
    "print (y_train)"
   ]
  },
  {
   "cell_type": "code",
   "execution_count": null,
   "id": "864257ee-d312-4ccc-bffe-46cfe1512b45",
   "metadata": {},
   "outputs": [],
   "source": [
    "print (y_test)"
   ]
  },
  {
   "cell_type": "markdown",
   "id": "8afd9f2b-1a07-47a6-8436-3ac05cdf33b2",
   "metadata": {},
   "source": [
    "Pri niektorých algoritmoch strojového učenia je treba urobiť aj úpravu mierky príznakov – <strong>Feature Scaling</strong>. Vidíme totiž, že plat a vek sú hodnoty v úplne iných rádoch. Príslušný kód je:"
   ]
  },
  {
   "cell_type": "code",
   "execution_count": null,
   "id": "f54c1cd1-cd66-4f54-b7f2-34db7ef2859f",
   "metadata": {},
   "outputs": [],
   "source": [
    "from sklearn.preprocessing import StandardScaler\n",
    "sc_X = StandardScaler()\n",
    "X_train[:, 3:] = sc_X.fit_transform(X_train[:, 3:])\n",
    "X_test[:, 3:] = sc_X.transform(X_test[:, 3:]);"
   ]
  },
  {
   "cell_type": "markdown",
   "id": "dfbdbddb-04e4-426c-ae79-21ff32d6fc3b",
   "metadata": {},
   "source": [
    "Týmto sme dokončili náš template pre data preprocessing, ktorý budeme používať. Súbor si dôkladne uložíme. Pokračujeme v cvičení s časťou LINEÁRNA REGRESIA."
   ]
  },
  {
   "cell_type": "code",
   "execution_count": null,
   "id": "02274fed-5a7e-4c31-88f7-43b96ca2ee45",
   "metadata": {},
   "outputs": [],
   "source": []
  }
 ],
 "metadata": {
  "kernelspec": {
   "display_name": "Python 3 (ipykernel)",
   "language": "python",
   "name": "python3"
  },
  "language_info": {
   "codemirror_mode": {
    "name": "ipython",
    "version": 3
   },
   "file_extension": ".py",
   "mimetype": "text/x-python",
   "name": "python",
   "nbconvert_exporter": "python",
   "pygments_lexer": "ipython3",
   "version": "3.11.4"
  }
 },
 "nbformat": 4,
 "nbformat_minor": 5
}
